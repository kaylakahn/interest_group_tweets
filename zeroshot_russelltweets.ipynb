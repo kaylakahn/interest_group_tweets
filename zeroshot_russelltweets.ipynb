{
 "cells": [
  {
   "cell_type": "code",
   "execution_count": 1,
   "metadata": {},
   "outputs": [],
   "source": [
    "# using llm_proj env\n",
    "import pandas as pd\n",
    "from transformers import pipeline\n",
    "#from tqdm import tqdm\n",
    "import torch # if using apple silicon, must be imported or model will fall to cpu"
   ]
  },
  {
   "cell_type": "markdown",
   "metadata": {},
   "source": [
    "Load df and filter out NAs. There are not really missing tweets. The NAs are from the coder filling extra rows in the excel sheet with the username (likely copy paste to save time) but not putting any tweets there."
   ]
  },
  {
   "cell_type": "code",
   "execution_count": null,
   "metadata": {},
   "outputs": [
    {
     "name": "stderr",
     "output_type": "stream",
     "text": [
      "/Users/Kayla/HuggingFaceGuidedTourForMac/lib/python3.11/site-packages/huggingface_hub/file_download.py:1132: FutureWarning: `resume_download` is deprecated and will be removed in version 1.0.0. Downloads always resume when possible. If you want to force a new download, use `force_download=True`.\n",
      "  warnings.warn(\n"
     ]
    }
   ],
   "source": [
    "df = pd.read_csv(\"/russell_tweets_oct2424.csv\")\n",
    "df = df[df['text'].notna()]\n",
    "\n",
    "# define hyps\n",
    "candidate_labels = [\"takes a position\", \"does not take a position\"]\n",
    "hypothesis_template = \"This tweet {} on a political issue\"\n",
    "classifier = pipeline(\"zero-shot-classification\", model=\"MoritzLaurer/deberta-v3-large-zeroshot-v2.0\", device=torch.device('mps'), batch_size = 32)"
   ]
  },
  {
   "cell_type": "code",
   "execution_count": null,
   "metadata": {},
   "outputs": [],
   "source": [
    "results = classifier(list(df['text']), candidate_labels=candidate_labels, hypothesis_template=hypothesis_template, multi_label=False)\n",
    "df['predicted_label'] = [result['labels'][0] for result in results]\n",
    "df['score'] = [result['scores'][0] for result in results]"
   ]
  },
  {
   "cell_type": "code",
   "execution_count": null,
   "metadata": {},
   "outputs": [],
   "source": [
    "df.to_csv(\"/russeltweets_zeroshot_classified_deblarge_oct2424.csv\")"
   ]
  }
 ],
 "metadata": {
  "kernelspec": {
   "display_name": "HuggingFaceGuidedTourForMac",
   "language": "python",
   "name": "python3"
  },
  "language_info": {
   "codemirror_mode": {
    "name": "ipython",
    "version": 3
   },
   "file_extension": ".py",
   "mimetype": "text/x-python",
   "name": "python",
   "nbconvert_exporter": "python",
   "pygments_lexer": "ipython3",
   "version": "3.11.5"
  }
 },
 "nbformat": 4,
 "nbformat_minor": 2
}
